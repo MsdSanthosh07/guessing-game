{
  "nbformat": 4,
  "nbformat_minor": 0,
  "metadata": {
    "colab": {
      "provenance": []
    },
    "kernelspec": {
      "name": "python3",
      "display_name": "Python 3"
    },
    "language_info": {
      "name": "python"
    },
    "widgets": {
      "application/vnd.jupyter.widget-state+json": {
        "b99feebe9e534d25854952106a943f95": {
          "model_module": "@jupyter-widgets/controls",
          "model_name": "BoundedIntTextModel",
          "model_module_version": "1.5.0",
          "state": {
            "_dom_classes": [],
            "_model_module": "@jupyter-widgets/controls",
            "_model_module_version": "1.5.0",
            "_model_name": "BoundedIntTextModel",
            "_view_count": null,
            "_view_module": "@jupyter-widgets/controls",
            "_view_module_version": "1.5.0",
            "_view_name": "IntTextView",
            "continuous_update": false,
            "description": "Your guess:",
            "description_tooltip": null,
            "disabled": false,
            "layout": "IPY_MODEL_a9bbd70d7d904dd69e3b17440f3a6e59",
            "max": 100,
            "min": 1,
            "step": 1,
            "style": "IPY_MODEL_6faef7d567d045c8a4f4dca52dae6182",
            "value": 92
          }
        },
        "a9bbd70d7d904dd69e3b17440f3a6e59": {
          "model_module": "@jupyter-widgets/base",
          "model_name": "LayoutModel",
          "model_module_version": "1.2.0",
          "state": {
            "_model_module": "@jupyter-widgets/base",
            "_model_module_version": "1.2.0",
            "_model_name": "LayoutModel",
            "_view_count": null,
            "_view_module": "@jupyter-widgets/base",
            "_view_module_version": "1.2.0",
            "_view_name": "LayoutView",
            "align_content": null,
            "align_items": null,
            "align_self": null,
            "border": null,
            "bottom": null,
            "display": null,
            "flex": null,
            "flex_flow": null,
            "grid_area": null,
            "grid_auto_columns": null,
            "grid_auto_flow": null,
            "grid_auto_rows": null,
            "grid_column": null,
            "grid_gap": null,
            "grid_row": null,
            "grid_template_areas": null,
            "grid_template_columns": null,
            "grid_template_rows": null,
            "height": null,
            "justify_content": null,
            "justify_items": null,
            "left": null,
            "margin": null,
            "max_height": null,
            "max_width": null,
            "min_height": null,
            "min_width": null,
            "object_fit": null,
            "object_position": null,
            "order": null,
            "overflow": null,
            "overflow_x": null,
            "overflow_y": null,
            "padding": null,
            "right": null,
            "top": null,
            "visibility": null,
            "width": null
          }
        },
        "6faef7d567d045c8a4f4dca52dae6182": {
          "model_module": "@jupyter-widgets/controls",
          "model_name": "DescriptionStyleModel",
          "model_module_version": "1.5.0",
          "state": {
            "_model_module": "@jupyter-widgets/controls",
            "_model_module_version": "1.5.0",
            "_model_name": "DescriptionStyleModel",
            "_view_count": null,
            "_view_module": "@jupyter-widgets/base",
            "_view_module_version": "1.2.0",
            "_view_name": "StyleView",
            "description_width": ""
          }
        },
        "ec07eb699e284d16a74531013d3d6a8e": {
          "model_module": "@jupyter-widgets/controls",
          "model_name": "ButtonModel",
          "model_module_version": "1.5.0",
          "state": {
            "_dom_classes": [],
            "_model_module": "@jupyter-widgets/controls",
            "_model_module_version": "1.5.0",
            "_model_name": "ButtonModel",
            "_view_count": null,
            "_view_module": "@jupyter-widgets/controls",
            "_view_module_version": "1.5.0",
            "_view_name": "ButtonView",
            "button_style": "",
            "description": "Submit Guess",
            "disabled": false,
            "icon": "",
            "layout": "IPY_MODEL_4ea2c2a6b1ca4441928f2c0142d5579f",
            "style": "IPY_MODEL_54f5239eda02472983fe287e72237d0b",
            "tooltip": ""
          }
        },
        "4ea2c2a6b1ca4441928f2c0142d5579f": {
          "model_module": "@jupyter-widgets/base",
          "model_name": "LayoutModel",
          "model_module_version": "1.2.0",
          "state": {
            "_model_module": "@jupyter-widgets/base",
            "_model_module_version": "1.2.0",
            "_model_name": "LayoutModel",
            "_view_count": null,
            "_view_module": "@jupyter-widgets/base",
            "_view_module_version": "1.2.0",
            "_view_name": "LayoutView",
            "align_content": null,
            "align_items": null,
            "align_self": null,
            "border": null,
            "bottom": null,
            "display": null,
            "flex": null,
            "flex_flow": null,
            "grid_area": null,
            "grid_auto_columns": null,
            "grid_auto_flow": null,
            "grid_auto_rows": null,
            "grid_column": null,
            "grid_gap": null,
            "grid_row": null,
            "grid_template_areas": null,
            "grid_template_columns": null,
            "grid_template_rows": null,
            "height": null,
            "justify_content": null,
            "justify_items": null,
            "left": null,
            "margin": null,
            "max_height": null,
            "max_width": null,
            "min_height": null,
            "min_width": null,
            "object_fit": null,
            "object_position": null,
            "order": null,
            "overflow": null,
            "overflow_x": null,
            "overflow_y": null,
            "padding": null,
            "right": null,
            "top": null,
            "visibility": null,
            "width": null
          }
        },
        "54f5239eda02472983fe287e72237d0b": {
          "model_module": "@jupyter-widgets/controls",
          "model_name": "ButtonStyleModel",
          "model_module_version": "1.5.0",
          "state": {
            "_model_module": "@jupyter-widgets/controls",
            "_model_module_version": "1.5.0",
            "_model_name": "ButtonStyleModel",
            "_view_count": null,
            "_view_module": "@jupyter-widgets/base",
            "_view_module_version": "1.2.0",
            "_view_name": "StyleView",
            "button_color": null,
            "font_weight": ""
          }
        },
        "d0b9b2af97df49c2ba88625d80b42d55": {
          "model_module": "@jupyter-widgets/output",
          "model_name": "OutputModel",
          "model_module_version": "1.0.0",
          "state": {
            "_dom_classes": [],
            "_model_module": "@jupyter-widgets/output",
            "_model_module_version": "1.0.0",
            "_model_name": "OutputModel",
            "_view_count": null,
            "_view_module": "@jupyter-widgets/output",
            "_view_module_version": "1.0.0",
            "_view_name": "OutputView",
            "layout": "IPY_MODEL_f7a9d55af14a4629a652310b5d18e7a9",
            "msg_id": "",
            "outputs": [
              {
                "output_type": "stream",
                "name": "stdout",
                "text": [
                  "Congratulations! You guessed the number 92 correctly.\n",
                  "It took you 13 attempts to guess the right number.\n"
                ]
              }
            ]
          }
        },
        "f7a9d55af14a4629a652310b5d18e7a9": {
          "model_module": "@jupyter-widgets/base",
          "model_name": "LayoutModel",
          "model_module_version": "1.2.0",
          "state": {
            "_model_module": "@jupyter-widgets/base",
            "_model_module_version": "1.2.0",
            "_model_name": "LayoutModel",
            "_view_count": null,
            "_view_module": "@jupyter-widgets/base",
            "_view_module_version": "1.2.0",
            "_view_name": "LayoutView",
            "align_content": null,
            "align_items": null,
            "align_self": null,
            "border": null,
            "bottom": null,
            "display": null,
            "flex": null,
            "flex_flow": null,
            "grid_area": null,
            "grid_auto_columns": null,
            "grid_auto_flow": null,
            "grid_auto_rows": null,
            "grid_column": null,
            "grid_gap": null,
            "grid_row": null,
            "grid_template_areas": null,
            "grid_template_columns": null,
            "grid_template_rows": null,
            "height": null,
            "justify_content": null,
            "justify_items": null,
            "left": null,
            "margin": null,
            "max_height": null,
            "max_width": null,
            "min_height": null,
            "min_width": null,
            "object_fit": null,
            "object_position": null,
            "order": null,
            "overflow": null,
            "overflow_x": null,
            "overflow_y": null,
            "padding": null,
            "right": null,
            "top": null,
            "visibility": null,
            "width": null
          }
        }
      }
    }
  },
  "cells": [
    {
      "cell_type": "markdown",
      "source": [
        "**Create a Guessing Game**\n",
        "\n",
        "**Build a program that generates a random number and challenges the user to guess it. The program should prompt the user to input their guess, compare it to the generated number, and provide feedback if the guess is too high or too low. It should continue until the user correctly guesses the number and then display the number of attempts it took to win the game.**"
      ],
      "metadata": {
        "id": "m1n6rDfrjlw0"
      }
    },
    {
      "cell_type": "code",
      "source": [
        "import random\n",
        "import ipywidgets as widgets\n",
        "from IPython.display import display, clear_output\n",
        "\n",
        "# Initialize variables\n",
        "target_number = random.randint(1, 100)\n",
        "attempts = 0\n",
        "\n",
        "# Create widgets\n",
        "guess_widget = widgets.BoundedIntText(\n",
        "    value=0,\n",
        "    min=1,\n",
        "    max=100,\n",
        "    step=1,\n",
        "    description='Your guess:',\n",
        "    disabled=False\n",
        ")\n",
        "button = widgets.Button(description=\"Submit Guess\")\n",
        "output = widgets.Output()\n",
        "\n",
        "# Define what happens when the button is clicked\n",
        "def on_button_clicked(b):\n",
        "    global attempts\n",
        "    guess = guess_widget.value\n",
        "    attempts += 1\n",
        "\n",
        "    with output:\n",
        "        clear_output()\n",
        "        if guess < target_number:\n",
        "            print(f\"{guess} is too low! Try again.\")\n",
        "        elif guess > target_number:\n",
        "            print(f\"{guess} is too high! Try again.\")\n",
        "        else:\n",
        "            print(f\"Congratulations! You guessed the number {target_number} correctly.\")\n",
        "            print(f\"It took you {attempts} attempts to guess the right number.\")\n",
        "\n",
        "button.on_click(on_button_clicked)\n",
        "\n",
        "# Display the widgets\n",
        "display(guess_widget, button, output)\n",
        "\n",
        "print(\"Welcome to the Guessing Game!\")\n",
        "print(\"I have generated a random number between 1 and 100.\")\n",
        "print(\"Can you guess what it is?\")\n"
      ],
      "metadata": {
        "colab": {
          "base_uri": "https://localhost:8080/",
          "height": 168,
          "referenced_widgets": [
            "b99feebe9e534d25854952106a943f95",
            "a9bbd70d7d904dd69e3b17440f3a6e59",
            "6faef7d567d045c8a4f4dca52dae6182",
            "ec07eb699e284d16a74531013d3d6a8e",
            "4ea2c2a6b1ca4441928f2c0142d5579f",
            "54f5239eda02472983fe287e72237d0b",
            "d0b9b2af97df49c2ba88625d80b42d55",
            "f7a9d55af14a4629a652310b5d18e7a9"
          ]
        },
        "id": "WZF8zVHAj7fR",
        "outputId": "714b49b9-17d0-41bd-b145-0b245a710c39"
      },
      "execution_count": null,
      "outputs": [
        {
          "output_type": "display_data",
          "data": {
            "text/plain": [
              "BoundedIntText(value=1, description='Your guess:', min=1)"
            ],
            "application/vnd.jupyter.widget-view+json": {
              "version_major": 2,
              "version_minor": 0,
              "model_id": "b99feebe9e534d25854952106a943f95"
            }
          },
          "metadata": {}
        },
        {
          "output_type": "display_data",
          "data": {
            "text/plain": [
              "Button(description='Submit Guess', style=ButtonStyle())"
            ],
            "application/vnd.jupyter.widget-view+json": {
              "version_major": 2,
              "version_minor": 0,
              "model_id": "ec07eb699e284d16a74531013d3d6a8e"
            }
          },
          "metadata": {}
        },
        {
          "output_type": "display_data",
          "data": {
            "text/plain": [
              "Output()"
            ],
            "application/vnd.jupyter.widget-view+json": {
              "version_major": 2,
              "version_minor": 0,
              "model_id": "d0b9b2af97df49c2ba88625d80b42d55"
            }
          },
          "metadata": {}
        },
        {
          "output_type": "stream",
          "name": "stdout",
          "text": [
            "Welcome to the Guessing Game!\n",
            "I have generated a random number between 1 and 100.\n",
            "Can you guess what it is?\n"
          ]
        }
      ]
    }
  ]
}